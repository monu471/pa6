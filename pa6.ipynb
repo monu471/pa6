{
 "cells": [
  {
   "cell_type": "markdown",
   "id": "550a8619",
   "metadata": {},
   "source": [
    "### Q1. Describe three applications for exception processing ?\n",
    "\n",
    "Error handling: Exception processing is commonly used to handle errors that occur during the execution of a program. When an error occurs, an exception is raised, and the program's execution is halted. The exception can be caught and handled by the program, allowing the program to continue execution or to terminate gracefully. This is particularly useful in situations where the program cannot recover from the error, but it's important to provide a clear message to the user about what went wrong.\n",
    "\n",
    "Input validation: Exception processing is also used to validate user input. For example, when a program expects a certain type of input, such as an integer or a string, it can raise an exception if the input is not of the expected type. This allows the program to provide a clear message to the user about the expected input and to terminate gracefully.\n",
    "\n",
    "Resource management: Exception processing is also used to manage resources such as file handles, network connections, and database connections. When a program needs to open a file, for example, it can raise an exception if the file cannot be opened. This allows the program to close the file handle or release the resource, preventing leaks and ensuring that resources are used in a controlled and efficient manner.\n",
    "\n",
    "In summary, exception processing is a powerful technique that allows you to handle errors and unexpected situations, validate user input and manage resources in a controlled and efficient manner. It allows you to provide a clear message to the user about what went wrong and to terminate the program gracefully.\n",
    "\n",
    "\n",
    "\n",
    "\n"
   ]
  },
  {
   "cell_type": "markdown",
   "id": "54f9f4dd",
   "metadata": {},
   "source": [
    "### Q2. What happens if you don't do something extra to treat an exception?\n",
    "\n",
    "Unhandled exceptions can cause several problems:\n",
    "\n",
    "They can leave the program in an undefined state, with data in an inconsistent or unexpected state.\n",
    "They can cause the program to terminate without giving the user any indication of what went wrong.\n",
    "They can cause resources to be left in an undefined state, such as file handles or database connections, which can cause leaks or other issues.\n",
    "They can cause other parts of the program to stop working as intended.\n",
    "\n"
   ]
  },
  {
   "cell_type": "markdown",
   "id": "9cb7703d",
   "metadata": {},
   "source": [
    "### Q3. What are your options for recovering from an exception in your script?\n",
    "\n",
    "Try-Except statement,Try-Except-Else statement,Try-Except-Finally statement"
   ]
  },
  {
   "cell_type": "markdown",
   "id": "b87cbdf3",
   "metadata": {},
   "source": [
    "### Q4. Describe two methods for triggering exceptions in your script."
   ]
  },
  {
   "cell_type": "markdown",
   "id": "88cdd46b",
   "metadata": {},
   "source": [
    "Raise statement: The raise statement is used to trigger an exception in a script. The raise statement is used to create a new exception object and to cause the program to stop executing at the point where the exception was raised.\n",
    "\n",
    "Assert statement: The assert statement is used to trigger an exception when a certain condition is not met. The assert statement is used to check a condition and to raise an exception if the condition is not true. The assert statement is often used for debugging and for input validation"
   ]
  },
  {
   "cell_type": "markdown",
   "id": "5d27345a",
   "metadata": {},
   "source": [
    "### Q5. Identify two methods for specifying actions to be executed at termination time, regardless of whether or not an exception exists.\n",
    "\n",
    "The finally block in a try-except-finally statement: The finally block allows you to specify actions that will be executed at termination time, regardless of whether or not an exception exists. The code in the finally block will be executed whether the try block raises an exception or not, or even if an exception occurs in the except block. The code in the finally block can be used to free resources, close file handles, or perform other \n",
    "\n",
    "\n",
    "Using the atexit module: The atexit module allows you to register one or more functions that will be executed at termination time, regardless of whether or not an exception exists. The registered functions will be executed in reverse order of registration. "
   ]
  },
  {
   "cell_type": "code",
   "execution_count": null,
   "id": "ff715c4f",
   "metadata": {},
   "outputs": [],
   "source": []
  }
 ],
 "metadata": {
  "kernelspec": {
   "display_name": "Python 3 (ipykernel)",
   "language": "python",
   "name": "python3"
  },
  "language_info": {
   "codemirror_mode": {
    "name": "ipython",
    "version": 3
   },
   "file_extension": ".py",
   "mimetype": "text/x-python",
   "name": "python",
   "nbconvert_exporter": "python",
   "pygments_lexer": "ipython3",
   "version": "3.9.12"
  }
 },
 "nbformat": 4,
 "nbformat_minor": 5
}
